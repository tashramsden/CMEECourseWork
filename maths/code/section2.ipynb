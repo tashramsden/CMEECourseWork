{
 "cells": [
  {
   "cell_type": "markdown",
   "id": "dbe58d38",
   "metadata": {},
   "source": [
    "Translations:"
   ]
  },
  {
   "cell_type": "code",
   "execution_count": 2,
   "id": "cd6bc066",
   "metadata": {},
   "outputs": [
    {
     "data": {
      "application/vnd.jupyter.widget-view+json": {
       "model_id": "f2e87fa32899412ea99f014d9e0737ff",
       "version_major": 2,
       "version_minor": 0
      },
      "text/plain": [
       "interactive(children=(FloatSlider(value=0.0, description='c', max=2.0, min=-2.0), Output()), _dom_classes=('wi…"
      ]
     },
     "metadata": {},
     "output_type": "display_data"
    },
    {
     "data": {
      "application/vnd.jupyter.widget-view+json": {
       "model_id": "62fba97f7b7649a9af7341eca903a17c",
       "version_major": 2,
       "version_minor": 0
      },
      "text/plain": [
       "interactive(children=(FloatSlider(value=0.0, description='c', max=2.0, min=-2.0), Output()), _dom_classes=('wi…"
      ]
     },
     "metadata": {},
     "output_type": "display_data"
    },
    {
     "data": {
      "text/plain": [
       "<function __main__.vtrans(c)>"
      ]
     },
     "execution_count": 2,
     "metadata": {},
     "output_type": "execute_result"
    }
   ],
   "source": [
    "from ipywidgets import interact\n",
    "import matplotlib.pyplot as plt\n",
    "import numpy as np\n",
    "\n",
    "def func(x):\n",
    "    return x**3\n",
    "\n",
    "def htrans(c):\n",
    "    x = np.linspace(-3,3)\n",
    "    \n",
    "    y = func(x+c) #constant c in the argument of the function\n",
    "    \n",
    "    plt.plot(x,y, label='$f(x+c)$')\n",
    "    plt.title('Horizontal translation')\n",
    "    plt.legend(fontsize=12)\n",
    "    \n",
    "    plt.ylim(-8, 8) #remember to change the limits for better visualisation if necessary\n",
    "    \n",
    "    plt.axhline(0, color='black', lw=1)\n",
    "    plt.axvline(0, color='black', lw=1)\n",
    "    \n",
    "    \n",
    "\n",
    "    plt.show()\n",
    "\n",
    "def vtrans(c):\n",
    "    x = np.linspace(-3,3)\n",
    "    \n",
    "    y = func(x)+c #constant c summing the whole function\n",
    "    \n",
    "    plt.plot(x,y,  label='$f(x)+c$')\n",
    "    plt.title('Vertical translation')\n",
    "    \n",
    "    plt.xlabel('x')\n",
    "    plt.ylabel('y')\n",
    "    plt.legend(fontsize=12)\n",
    "    \n",
    "    plt.ylim(-8, 8) #remember to change the limits for better visualisation if necessary\n",
    "        \n",
    "    plt.axhline(0, color='black', lw=1)\n",
    "    plt.axvline(0, color='black', lw=1)\n",
    "    \n",
    "    plt.show()\n",
    "    \n",
    "# create a slider\n",
    "\n",
    "interact(htrans, c=(-2.0,2.0))\n",
    "interact(vtrans, c=(-2.0,2.0))\n",
    "\n"
   ]
  },
  {
   "cell_type": "markdown",
   "id": "d5bff611",
   "metadata": {},
   "source": [
    "Stretching/Compressing:"
   ]
  },
  {
   "cell_type": "code",
   "execution_count": 3,
   "id": "d2d27923",
   "metadata": {},
   "outputs": [
    {
     "data": {
      "application/vnd.jupyter.widget-view+json": {
       "model_id": "a4b07ef8700043ba8381f0ad023e38f9",
       "version_major": 2,
       "version_minor": 0
      },
      "text/plain": [
       "interactive(children=(FloatSlider(value=1.55, description='c', max=3.0, min=0.1), Output()), _dom_classes=('wi…"
      ]
     },
     "metadata": {},
     "output_type": "display_data"
    },
    {
     "data": {
      "application/vnd.jupyter.widget-view+json": {
       "model_id": "f22ee9709ea54c15bef401105b524ab7",
       "version_major": 2,
       "version_minor": 0
      },
      "text/plain": [
       "interactive(children=(FloatSlider(value=1.55, description='c', max=3.0, min=0.1), Output()), _dom_classes=('wi…"
      ]
     },
     "metadata": {},
     "output_type": "display_data"
    },
    {
     "data": {
      "text/plain": [
       "<function __main__.vstetcom(c)>"
      ]
     },
     "execution_count": 3,
     "metadata": {},
     "output_type": "execute_result"
    }
   ],
   "source": [
    "from ipywidgets import interact\n",
    "import matplotlib.pyplot as plt\n",
    "import numpy as np\n",
    "\n",
    "def func(x):\n",
    "    return x**3-2*x\n",
    "\n",
    "def hstetcom(c):\n",
    "    x = np.linspace(-3,3)\n",
    "    \n",
    "    y = func(c*x) #constant c multiplying the argument of the function\n",
    "    \n",
    "    plt.plot(x,y, label='$f\\, (cx)$')\n",
    "    plt.title('Horizontal stretching/compression')\n",
    "        \n",
    "    plt.xlabel('x')\n",
    "    plt.ylabel('y')\n",
    "    plt.legend(fontsize=12)\n",
    "    \n",
    "    plt.ylim(-4, 4) #remember to change the limits for better visualisation if necessary\n",
    "    \n",
    "    plt.axhline(0, color='black', lw=1)\n",
    "    plt.axvline(0, color='black', lw=1)\n",
    "    \n",
    "    \n",
    "\n",
    "    plt.show()\n",
    "\n",
    "def vstetcom(c):\n",
    "    x = np.linspace(-3,3)\n",
    "    \n",
    "    y = c*func(x) #constant c multiplying the whole function\n",
    "    \n",
    "    plt.plot(x,y,  label='$c\\, f\\, (x)$')\n",
    "    plt.title('Vertical stretching/compression')\n",
    "    \n",
    "    plt.xlabel('x')\n",
    "    plt.ylabel('y')\n",
    "    plt.legend(fontsize=12)\n",
    "    \n",
    "    plt.ylim(-4, 4) #remember to change the limits for better visualisation if necessary\n",
    "        \n",
    "    plt.axhline(0, color='black', lw=1)\n",
    "    plt.axvline(0, color='black', lw=1)\n",
    "    \n",
    "    plt.show()\n",
    "    \n",
    "# create a slider\n",
    "\n",
    "interact(hstetcom, c=(0.1,3.0))\n",
    "interact(vstetcom, c=(0.1,3.0))"
   ]
  }
 ],
 "metadata": {
  "kernelspec": {
   "display_name": "Python 3 (ipykernel)",
   "language": "python",
   "name": "python3"
  },
  "language_info": {
   "codemirror_mode": {
    "name": "ipython",
    "version": 3
   },
   "file_extension": ".py",
   "mimetype": "text/x-python",
   "name": "python",
   "nbconvert_exporter": "python",
   "pygments_lexer": "ipython3",
   "version": "3.8.10"
  }
 },
 "nbformat": 4,
 "nbformat_minor": 5
}
